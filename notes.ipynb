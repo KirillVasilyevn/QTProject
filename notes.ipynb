{
 "cells": [
  {
   "cell_type": "markdown",
   "metadata": {},
   "source": [
    "Added table for DB in SQLite\n",
    "\n",
    "<code>CREATE TABLE \"financial_transactions\" (\n",
    "\t\"transaction_id\"\tINTEGER NOT NULL UNIQUE,\n",
    "\t\"amount\"\tINTEGER NOT NULL,\n",
    "\t\"description\"\tTEXT,\n",
    "\t\"created_at\"\tTEXT NOT NULL DEFAULT (TIME('now', 'localtime')),\n",
    "\t\"transaction_date\"\tTEXT NOT NULL,\n",
    "\tPRIMARY KEY(\"transaction_id\" AUTOINCREMENT)\n",
    ")</code>"
   ]
  }
 ],
 "metadata": {
  "language_info": {
   "name": "python"
  }
 },
 "nbformat": 4,
 "nbformat_minor": 2
}
